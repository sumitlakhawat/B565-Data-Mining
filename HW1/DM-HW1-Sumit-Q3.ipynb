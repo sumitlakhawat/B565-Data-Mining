{
 "cells": [
  {
   "cell_type": "code",
   "execution_count": 40,
   "metadata": {
    "execution": {
     "iopub.execute_input": "2021-09-20T02:58:23.515845Z",
     "iopub.status.busy": "2021-09-20T02:58:23.515529Z",
     "iopub.status.idle": "2021-09-20T02:58:23.521830Z",
     "shell.execute_reply": "2021-09-20T02:58:23.520563Z",
     "shell.execute_reply.started": "2021-09-20T02:58:23.515815Z"
    }
   },
   "outputs": [],
   "source": [
    "import pandas as pd\n",
    "import numpy as np\n",
    "import matplotlib.pyplot as plt\n",
    "import seaborn as sns"
   ]
  },
  {
   "cell_type": "code",
   "execution_count": 41,
   "metadata": {
    "execution": {
     "iopub.execute_input": "2021-09-20T02:58:23.535817Z",
     "iopub.status.busy": "2021-09-20T02:58:23.534986Z",
     "iopub.status.idle": "2021-09-20T02:58:23.558318Z",
     "shell.execute_reply": "2021-09-20T02:58:23.557734Z",
     "shell.execute_reply.started": "2021-09-20T02:58:23.535757Z"
    }
   },
   "outputs": [
    {
     "data": {
      "text/html": [
       "<div>\n",
       "<style scoped>\n",
       "    .dataframe tbody tr th:only-of-type {\n",
       "        vertical-align: middle;\n",
       "    }\n",
       "\n",
       "    .dataframe tbody tr th {\n",
       "        vertical-align: top;\n",
       "    }\n",
       "\n",
       "    .dataframe thead th {\n",
       "        text-align: right;\n",
       "    }\n",
       "</style>\n",
       "<table border=\"1\" class=\"dataframe\">\n",
       "  <thead>\n",
       "    <tr style=\"text-align: right;\">\n",
       "      <th></th>\n",
       "      <th>genome_ID</th>\n",
       "      <th>CRISPR_Cas</th>\n",
       "      <th>AMR</th>\n",
       "    </tr>\n",
       "  </thead>\n",
       "  <tbody>\n",
       "    <tr>\n",
       "      <th>0</th>\n",
       "      <td>GCA_010120755.1_ASM1012075v1</td>\n",
       "      <td>0</td>\n",
       "      <td>8</td>\n",
       "    </tr>\n",
       "    <tr>\n",
       "      <th>1</th>\n",
       "      <td>GCA_001720945.1_ASM172094v1</td>\n",
       "      <td>0</td>\n",
       "      <td>21</td>\n",
       "    </tr>\n",
       "    <tr>\n",
       "      <th>2</th>\n",
       "      <td>GCA_009697285.1_ASM969728v1</td>\n",
       "      <td>0</td>\n",
       "      <td>13</td>\n",
       "    </tr>\n",
       "    <tr>\n",
       "      <th>3</th>\n",
       "      <td>GCA_900639535.1_E8202_hybrid_assembly</td>\n",
       "      <td>0</td>\n",
       "      <td>11</td>\n",
       "    </tr>\n",
       "    <tr>\n",
       "      <th>4</th>\n",
       "      <td>GCA_002007625.1_ASM200762v1</td>\n",
       "      <td>0</td>\n",
       "      <td>18</td>\n",
       "    </tr>\n",
       "  </tbody>\n",
       "</table>\n",
       "</div>"
      ],
      "text/plain": [
       "                               genome_ID  CRISPR_Cas  AMR\n",
       "0           GCA_010120755.1_ASM1012075v1           0    8\n",
       "1            GCA_001720945.1_ASM172094v1           0   21\n",
       "2            GCA_009697285.1_ASM969728v1           0   13\n",
       "3  GCA_900639535.1_E8202_hybrid_assembly           0   11\n",
       "4            GCA_002007625.1_ASM200762v1           0   18"
      ]
     },
     "execution_count": 41,
     "metadata": {},
     "output_type": "execute_result"
    }
   ],
   "source": [
    "dataset = pd.read_csv(\"../input/efaeciumamrc/Efaecium_AMRC.csv\")\n",
    "dataset.head()"
   ]
  },
  {
   "cell_type": "code",
   "execution_count": 42,
   "metadata": {
    "execution": {
     "iopub.execute_input": "2021-09-20T02:58:23.560466Z",
     "iopub.status.busy": "2021-09-20T02:58:23.559648Z",
     "iopub.status.idle": "2021-09-20T02:58:23.568171Z",
     "shell.execute_reply": "2021-09-20T02:58:23.567065Z",
     "shell.execute_reply.started": "2021-09-20T02:58:23.560436Z"
    }
   },
   "outputs": [
    {
     "data": {
      "text/plain": [
       "(2223, 3)"
      ]
     },
     "execution_count": 42,
     "metadata": {},
     "output_type": "execute_result"
    }
   ],
   "source": [
    "dataset.shape"
   ]
  },
  {
   "cell_type": "code",
   "execution_count": 43,
   "metadata": {
    "execution": {
     "iopub.execute_input": "2021-09-20T02:58:23.570750Z",
     "iopub.status.busy": "2021-09-20T02:58:23.570081Z",
     "iopub.status.idle": "2021-09-20T02:58:23.586354Z",
     "shell.execute_reply": "2021-09-20T02:58:23.584955Z",
     "shell.execute_reply.started": "2021-09-20T02:58:23.570694Z"
    }
   },
   "outputs": [
    {
     "data": {
      "text/plain": [
       "genome_ID     object\n",
       "CRISPR_Cas     int64\n",
       "AMR            int64\n",
       "dtype: object"
      ]
     },
     "execution_count": 43,
     "metadata": {},
     "output_type": "execute_result"
    }
   ],
   "source": [
    "dataset.dtypes"
   ]
  },
  {
   "cell_type": "code",
   "execution_count": 44,
   "metadata": {
    "execution": {
     "iopub.execute_input": "2021-09-20T02:58:23.589255Z",
     "iopub.status.busy": "2021-09-20T02:58:23.588991Z",
     "iopub.status.idle": "2021-09-20T02:58:23.611153Z",
     "shell.execute_reply": "2021-09-20T02:58:23.610156Z",
     "shell.execute_reply.started": "2021-09-20T02:58:23.589227Z"
    }
   },
   "outputs": [
    {
     "data": {
      "text/html": [
       "<div>\n",
       "<style scoped>\n",
       "    .dataframe tbody tr th:only-of-type {\n",
       "        vertical-align: middle;\n",
       "    }\n",
       "\n",
       "    .dataframe tbody tr th {\n",
       "        vertical-align: top;\n",
       "    }\n",
       "\n",
       "    .dataframe thead th {\n",
       "        text-align: right;\n",
       "    }\n",
       "</style>\n",
       "<table border=\"1\" class=\"dataframe\">\n",
       "  <thead>\n",
       "    <tr style=\"text-align: right;\">\n",
       "      <th></th>\n",
       "      <th>CRISPR_Cas</th>\n",
       "      <th>AMR</th>\n",
       "    </tr>\n",
       "  </thead>\n",
       "  <tbody>\n",
       "    <tr>\n",
       "      <th>count</th>\n",
       "      <td>2223.000000</td>\n",
       "      <td>2223.000000</td>\n",
       "    </tr>\n",
       "    <tr>\n",
       "      <th>mean</th>\n",
       "      <td>0.024741</td>\n",
       "      <td>10.330184</td>\n",
       "    </tr>\n",
       "    <tr>\n",
       "      <th>std</th>\n",
       "      <td>0.155371</td>\n",
       "      <td>6.661470</td>\n",
       "    </tr>\n",
       "    <tr>\n",
       "      <th>min</th>\n",
       "      <td>0.000000</td>\n",
       "      <td>0.000000</td>\n",
       "    </tr>\n",
       "    <tr>\n",
       "      <th>25%</th>\n",
       "      <td>0.000000</td>\n",
       "      <td>3.000000</td>\n",
       "    </tr>\n",
       "    <tr>\n",
       "      <th>50%</th>\n",
       "      <td>0.000000</td>\n",
       "      <td>12.000000</td>\n",
       "    </tr>\n",
       "    <tr>\n",
       "      <th>75%</th>\n",
       "      <td>0.000000</td>\n",
       "      <td>16.000000</td>\n",
       "    </tr>\n",
       "    <tr>\n",
       "      <th>max</th>\n",
       "      <td>1.000000</td>\n",
       "      <td>31.000000</td>\n",
       "    </tr>\n",
       "  </tbody>\n",
       "</table>\n",
       "</div>"
      ],
      "text/plain": [
       "        CRISPR_Cas          AMR\n",
       "count  2223.000000  2223.000000\n",
       "mean      0.024741    10.330184\n",
       "std       0.155371     6.661470\n",
       "min       0.000000     0.000000\n",
       "25%       0.000000     3.000000\n",
       "50%       0.000000    12.000000\n",
       "75%       0.000000    16.000000\n",
       "max       1.000000    31.000000"
      ]
     },
     "execution_count": 44,
     "metadata": {},
     "output_type": "execute_result"
    }
   ],
   "source": [
    "dataset.describe()"
   ]
  },
  {
   "cell_type": "code",
   "execution_count": 45,
   "metadata": {
    "execution": {
     "iopub.execute_input": "2021-09-20T02:58:23.614456Z",
     "iopub.status.busy": "2021-09-20T02:58:23.614115Z",
     "iopub.status.idle": "2021-09-20T02:58:23.624138Z",
     "shell.execute_reply": "2021-09-20T02:58:23.623217Z",
     "shell.execute_reply.started": "2021-09-20T02:58:23.614414Z"
    }
   },
   "outputs": [
    {
     "data": {
      "text/plain": [
       "genome_ID     2223\n",
       "CRISPR_Cas       2\n",
       "AMR             27\n",
       "dtype: int64"
      ]
     },
     "execution_count": 45,
     "metadata": {},
     "output_type": "execute_result"
    }
   ],
   "source": [
    "dataset.nunique()"
   ]
  },
  {
   "cell_type": "code",
   "execution_count": 46,
   "metadata": {
    "execution": {
     "iopub.execute_input": "2021-09-20T02:58:23.625939Z",
     "iopub.status.busy": "2021-09-20T02:58:23.625671Z",
     "iopub.status.idle": "2021-09-20T02:58:23.634246Z",
     "shell.execute_reply": "2021-09-20T02:58:23.633385Z",
     "shell.execute_reply.started": "2021-09-20T02:58:23.625911Z"
    }
   },
   "outputs": [
    {
     "name": "stdout",
     "output_type": "stream",
     "text": [
      "Unique values of CRISPR_Cas:  [0 1]\n"
     ]
    }
   ],
   "source": [
    "unique_CRISPR_Cas = dataset.CRISPR_Cas.unique()\n",
    "print(\"Unique values of CRISPR_Cas: \",unique_CRISPR_Cas)"
   ]
  },
  {
   "cell_type": "code",
   "execution_count": 47,
   "metadata": {
    "execution": {
     "iopub.execute_input": "2021-09-20T02:58:23.636247Z",
     "iopub.status.busy": "2021-09-20T02:58:23.635428Z",
     "iopub.status.idle": "2021-09-20T02:58:23.646793Z",
     "shell.execute_reply": "2021-09-20T02:58:23.646157Z",
     "shell.execute_reply.started": "2021-09-20T02:58:23.636210Z"
    }
   },
   "outputs": [],
   "source": [
    "CRISPR_Cas_present = dataset[dataset.CRISPR_Cas == 1]\n",
    "CRISPR_Cas_absent = dataset[dataset.CRISPR_Cas == 0]"
   ]
  },
  {
   "cell_type": "code",
   "execution_count": 48,
   "metadata": {
    "execution": {
     "iopub.execute_input": "2021-09-20T02:58:23.648555Z",
     "iopub.status.busy": "2021-09-20T02:58:23.648333Z",
     "iopub.status.idle": "2021-09-20T02:58:23.860781Z",
     "shell.execute_reply": "2021-09-20T02:58:23.860131Z",
     "shell.execute_reply.started": "2021-09-20T02:58:23.648532Z"
    }
   },
   "outputs": [
    {
     "data": {
      "text/plain": [
       "Text(0, 0.5, 'Value count')"
      ]
     },
     "execution_count": 48,
     "metadata": {},
     "output_type": "execute_result"
    },
    {
     "data": {
      "image/png": "[encoded data removed]",
      "text/plain": [
       "<Figure size 432x288 with 1 Axes>"
      ]
     },
     "metadata": {
      "needs_background": "light"
     },
     "output_type": "display_data"
    }
   ],
   "source": [
    "dataset.CRISPR_Cas.value_counts().plot.bar(title = 'Value counts of CRISPR_Cas systems in Genomes')\n",
    "plt.xlabel('CRISPR_Cas')\n",
    "plt.ylabel('Value count')"
   ]
  },
  {
   "cell_type": "code",
   "execution_count": 49,
   "metadata": {
    "execution": {
     "iopub.execute_input": "2021-09-20T02:58:23.862790Z",
     "iopub.status.busy": "2021-09-20T02:58:23.862292Z",
     "iopub.status.idle": "2021-09-20T02:58:24.089725Z",
     "shell.execute_reply": "2021-09-20T02:58:24.088736Z",
     "shell.execute_reply.started": "2021-09-20T02:58:23.862749Z"
    }
   },
   "outputs": [
    {
     "data": {
      "text/plain": [
       "Text(0.5, 1.0, 'Scatter plot of CRISPR_Cas vs AMR')"
      ]
     },
     "execution_count": 49,
     "metadata": {},
     "output_type": "execute_result"
    },
    {
     "data": {
      "image/png": "[encoded data removed]",
      "text/plain": [
       "<Figure size 432x288 with 1 Axes>"
      ]
     },
     "metadata": {
      "needs_background": "light"
     },
     "output_type": "display_data"
    }
   ],
   "source": [
    "plt.plot(dataset.CRISPR_Cas,dataset.AMR,'o')\n",
    "plt.xlabel(\"CRISPR_Cas\")\n",
    "plt.ylabel(\"AMR\")\n",
    "plt.title(\"Scatter plot of CRISPR_Cas vs AMR\")"
   ]
  },
  {
   "cell_type": "code",
   "execution_count": 50,
   "metadata": {
    "execution": {
     "iopub.execute_input": "2021-09-20T02:58:24.091773Z",
     "iopub.status.busy": "2021-09-20T02:58:24.091448Z",
     "iopub.status.idle": "2021-09-20T02:58:24.305609Z",
     "shell.execute_reply": "2021-09-20T02:58:24.304603Z",
     "shell.execute_reply.started": "2021-09-20T02:58:24.091734Z"
    }
   },
   "outputs": [
    {
     "data": {
      "text/plain": [
       "<AxesSubplot:xlabel='CRISPR_Cas', ylabel='AMR'>"
      ]
     },
     "execution_count": 50,
     "metadata": {},
     "output_type": "execute_result"
    },
    {
     "data": {
      "image/png": "[encoded data removed]",
      "text/plain": [
       "<Figure size 432x288 with 1 Axes>"
      ]
     },
     "metadata": {
      "needs_background": "light"
     },
     "output_type": "display_data"
    }
   ],
   "source": [
    "sns.boxplot(x = dataset.CRISPR_Cas,y = dataset.AMR)"
   ]
  }
 ],
 "metadata": {
  "kernelspec": {
   "display_name": "Python 3",
   "language": "python",
   "name": "python3"
  },
  "language_info": {
   "codemirror_mode": {
    "name": "ipython",
    "version": 3
   },
   "file_extension": ".py",
   "mimetype": "text/x-python",
   "name": "python",
   "nbconvert_exporter": "python",
   "pygments_lexer": "ipython3",
   "version": "3.8.8"
  }
 },
 "nbformat": 4,
 "nbformat_minor": 4
}
